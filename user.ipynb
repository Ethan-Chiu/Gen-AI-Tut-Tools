{
 "cells": [
  {
   "cell_type": "code",
   "execution_count": null,
   "metadata": {},
   "outputs": [],
   "source": [
    "import requests\n",
    "from requests.auth import HTTPBasicAuth\n",
    "\n",
    "basic = HTTPBasicAuth('admin', 'ethanPassAdmin')\n",
    "# server_url = \"http://localhost:3000\" # For local server\n",
    "server_url = \"https://gen-ai-tut-backend.up.railway.app\""
   ]
  },
  {
   "cell_type": "code",
   "execution_count": null,
   "metadata": {},
   "outputs": [],
   "source": [
    "def _handle_response(response: requests.Response) -> dict|None:\n",
    "    try:\n",
    "        response.raise_for_status()\n",
    "        return response.json()\n",
    "    except requests.exceptions.HTTPError as err:\n",
    "        print(f\"Error: {response.status_code}. {err}\")\n",
    "        return None\n",
    "        \n",
    "\n",
    "def create_user(i):\n",
    "    data = {\n",
    "         \"name\": \"User \" + str(i)\n",
    "    }\n",
    "    response = requests.post(f'{server_url}/user/create', json=data, auth=basic)\n",
    "    res = _handle_response(response)\n",
    "\n",
    "def get_all_users():\n",
    "    response = requests.get(f'{server_url}/user/list', auth=basic)\n",
    "    res = _handle_response(response)\n",
    "    sorted_list = sorted(res, key=lambda x: x['id'])\n",
    "    return sorted_list\n",
    "\n",
    "def reset_usernames():\n",
    "    users = get_all_users()\n",
    "    for idx, user in enumerate(users):\n",
    "        headers = {'Authorization': f'Bearer {user.get(\"key\")}'}\n",
    "        data = {\n",
    "            \"name\": \"User \" + str(idx + 1)\n",
    "        }\n",
    "        requests.post(f'{server_url}/user/rename', json=data, headers=headers)\n",
    "    users = get_all_users()\n",
    "    return users\n",
    "\n",
    "def get_keys():\n",
    "    res = get_all_users()\n",
    "    for user in res:\n",
    "         print(user)\n",
    "    keys = [user[\"key\"] for user in res]\n",
    "    return keys"
   ]
  },
  {
   "cell_type": "markdown",
   "metadata": {},
   "source": [
    "## Get keys"
   ]
  },
  {
   "cell_type": "code",
   "execution_count": null,
   "metadata": {},
   "outputs": [],
   "source": [
    "keys = get_keys()\n",
    "print(keys)"
   ]
  },
  {
   "cell_type": "markdown",
   "metadata": {},
   "source": [
    "## Get all users"
   ]
  },
  {
   "cell_type": "code",
   "execution_count": null,
   "metadata": {},
   "outputs": [],
   "source": [
    "get_all_users()"
   ]
  },
  {
   "cell_type": "markdown",
   "metadata": {},
   "source": [
    "## Create new user"
   ]
  },
  {
   "cell_type": "code",
   "execution_count": null,
   "metadata": {},
   "outputs": [],
   "source": [
    "for i in range(10, 16):\n",
    "    create_user(i)"
   ]
  },
  {
   "cell_type": "markdown",
   "metadata": {},
   "source": [
    "## Reset usernames"
   ]
  },
  {
   "cell_type": "code",
   "execution_count": null,
   "metadata": {},
   "outputs": [],
   "source": [
    "reset_usernames()"
   ]
  }
 ],
 "metadata": {
  "kernelspec": {
   "display_name": "base",
   "language": "python",
   "name": "python3"
  },
  "language_info": {
   "codemirror_mode": {
    "name": "ipython",
    "version": 3
   },
   "file_extension": ".py",
   "mimetype": "text/x-python",
   "name": "python",
   "nbconvert_exporter": "python",
   "pygments_lexer": "ipython3",
   "version": "3.10.13"
  }
 },
 "nbformat": 4,
 "nbformat_minor": 2
}
