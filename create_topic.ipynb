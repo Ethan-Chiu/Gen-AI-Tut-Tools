{
 "cells": [
  {
   "cell_type": "code",
   "execution_count": null,
   "metadata": {},
   "outputs": [],
   "source": [
    "import requests\n",
    "from requests.auth import HTTPBasicAuth\n",
    "\n",
    "basic = HTTPBasicAuth('admin', 'ethanPassAdmin')\n",
    "# server_url = \"http://localhost:3000\" # For local server\n",
    "server_url = \"https://gen-ai-tut-backend.up.railway.app\""
   ]
  },
  {
   "cell_type": "code",
   "execution_count": null,
   "metadata": {},
   "outputs": [],
   "source": [
    "def _handle_response(response: requests.Response) -> dict|None:\n",
    "    try:\n",
    "        response.raise_for_status()\n",
    "        return response.json()\n",
    "    except requests.exceptions.HTTPError as err:\n",
    "        print(f\"Error: {response.status_code}. {err}\")\n",
    "        return None"
   ]
  },
  {
   "cell_type": "code",
   "execution_count": null,
   "metadata": {},
   "outputs": [],
   "source": [
    "def get_all_topic():\n",
    "    response = requests.get(f'{server_url}/topic/list')\n",
    "    res = _handle_response(response)\n",
    "    return res\n",
    "\n",
    "def create_topic(topic):\n",
    "    data = {\n",
    "        \"description\": topic\n",
    "    }\n",
    "    response = requests.post(f'{server_url}/topic/create', json=data, auth=basic)\n",
    "    res = _handle_response(response)\n",
    "    return res\n",
    "\n",
    "def create_instructions(topicId, order, input):\n",
    "    data = {\n",
    "        \"topicId\": topicId,\n",
    "        \"order\": order,\n",
    "        \"input\": input\n",
    "    }\n",
    "    response = requests.post(f'{server_url}/topic/createInst', json=data, auth=basic)\n",
    "    res = _handle_response(response)\n",
    "    return res\n",
    "\n",
    "def delete_topic(id):\n",
    "    response = requests.delete(f'{server_url}/topic/delete/{id}', auth=basic)\n",
    "    res = _handle_response(response)\n",
    "    return res\n"
   ]
  },
  {
   "cell_type": "code",
   "execution_count": null,
   "metadata": {},
   "outputs": [],
   "source": [
    "get_all_topic()"
   ]
  },
  {
   "cell_type": "code",
   "execution_count": null,
   "metadata": {},
   "outputs": [],
   "source": [
    "topic_one = [\"\"\"請針對2024年韓國醫生罷工的事件進行辯論。在辯論時，請根據事件背景和目前的發展以討論，同時考慮到醫生和政策制定者的立場和他們提出的論點。若能提供具體的統計數據或陳述，或是目前事件的進展，將有助於討論的進行，並且使您的論點更有說服力。\n",
    "正方：支持罷工行為\n",
    "反方：反對罷工行為\n",
    "\n",
    "作為正方，請堅持支持罷工行為的立場，請簡要且清晰地陳述你的意見和理由。\n",
    "正方:\"\"\",\n",
    "\"\"\"作為反方，請堅持反對罷工行為的立場，請簡要且清晰地陳述你的意見和理由。\n",
    "反方:\"\"\",\n",
    "\"\"\"作為正方，請堅守支持罷工行為的立場。請針對反對方所發表的意見，進行反駁。\n",
    "正方:\"\"\",\n",
    "\"\"\"作為反方，請堅守反對罷工行為的立場。請針對正方所發表的意見，進行反駁。\n",
    "反方:\"\"\",\n",
    "]"
   ]
  },
  {
   "cell_type": "code",
   "execution_count": null,
   "metadata": {},
   "outputs": [],
   "source": [
    "topic_two = [\n",
    "\"\"\"Pizza Hut近期推出了口味極端的草仔粿烏龜披薩。我們現在請正反雙方展開辯論，探討這款披薩的合理性以及對披薩店業務的影響。\n",
    "您能提出具體的統計、數據或相關陳述，或是談論目前事件的發展，將有助於深化討論並增加論點的說服力。\n",
    "正方：支持草仔粿烏龜披薩\n",
    "反方：反對草仔粿烏龜披薩\n",
    "\n",
    "作為正方，請堅守支持推出草仔粿披薩的立場，並簡明扼要地陳述您的意見和理由。\n",
    "正方:\"\"\",\n",
    "\"\"\"作為反方，請堅守反對推出草仔粿披薩的立場，並簡明扼要地陳述您的意見和理由。\n",
    "反方:\"\"\", \n",
    "\"\"\"作為正方，請堅守支持推出草仔粿披薩的立場，並針對反對方所發表的意見進行反駁。\n",
    "正方:\"\"\", \n",
    "\"\"\"作為反方，請堅守反對推出草仔粿披薩的立場，並針對正方所發表的意見進行反駁。\n",
    "反方:\"\"\",\n",
    "]"
   ]
  },
  {
   "cell_type": "code",
   "execution_count": null,
   "metadata": {},
   "outputs": [],
   "source": [
    "topic_three = [\n",
    "\"\"\"使用AI工具協助繪圖或寫文章等創作成品是否需要註明有使用AI協助？對此，請正反雙方展開辯論。探討智能工具對創作過程的影響，對原創性、貢獻以及消費者知情權的影響。\n",
    "若能提出具體的法律、規範或事件，將有利於討論的進行，並讓你的論點更具說服力。\n",
    "正方:支持使用AI工具協助的成品需註明有使用AI協助。\n",
    "反方:反對使用AI工具協助的成品需註明有使用AI協助。\n",
    "\n",
    "作為正方，請堅守支持使用AI工具協助的成品需註明有使用AI協助的立場，並簡明扼要地陳述正方的意見和理由。\n",
    "正方:\"\"\",\n",
    "\"\"\"作為反方，請堅守反對使用AI工具協助的成品需註明有使用AI協助的立場，簡明扼要地陳述你的意見和理由。\n",
    "反方:\"\"\",\n",
    "\"\"\"作為正方，請堅守支持使用AI工具協助的成品需註明有使用AI協助的立場。請針對反對方所發表的意見，進行反駁。\n",
    "正方:\"\"\",\n",
    "\"\"\"作為反方，請堅守反對使用AI工具協助的成品需註明有使用AI協助的立場。請針對正方所發表的意見，進行反駁。\n",
    "反方:\"\"\",\n",
    "]"
   ]
  },
  {
   "cell_type": "code",
   "execution_count": null,
   "metadata": {},
   "outputs": [],
   "source": [
    "topic_one_desc = \"韓國醫生罷工\"\n",
    "topic_two_desc = \"草仔粿烏龜披薩\"\n",
    "topic_three_desc = \"AI創作註明\""
   ]
  },
  {
   "cell_type": "markdown",
   "metadata": {},
   "source": [
    "# Delete topics"
   ]
  },
  {
   "cell_type": "code",
   "execution_count": null,
   "metadata": {},
   "outputs": [],
   "source": [
    "delete_topic(1)\n",
    "delete_topic(2)\n",
    "delete_topic(3)"
   ]
  },
  {
   "cell_type": "markdown",
   "metadata": {},
   "source": [
    "# Create topics"
   ]
  },
  {
   "cell_type": "code",
   "execution_count": null,
   "metadata": {},
   "outputs": [],
   "source": [
    "create_topic(topic_one_desc)\n",
    "create_topic(topic_two_desc)\n",
    "create_topic(topic_three_desc)"
   ]
  },
  {
   "cell_type": "code",
   "execution_count": null,
   "metadata": {},
   "outputs": [],
   "source": [
    "for i, inst in enumerate(topic_one):\n",
    "    # topicId, order, input\n",
    "    create_instructions(1, i, inst)"
   ]
  },
  {
   "cell_type": "code",
   "execution_count": null,
   "metadata": {},
   "outputs": [],
   "source": [
    "for i, inst in enumerate(topic_two):\n",
    "    # topicId, order, input\n",
    "    create_instructions(2, i, inst)"
   ]
  },
  {
   "cell_type": "code",
   "execution_count": null,
   "metadata": {},
   "outputs": [],
   "source": [
    "for i, inst in enumerate(topic_three):\n",
    "    # topicId, order, input\n",
    "    create_instructions(3, i, inst)"
   ]
  }
 ],
 "metadata": {
  "kernelspec": {
   "display_name": "genai-course",
   "language": "python",
   "name": "python3"
  },
  "language_info": {
   "codemirror_mode": {
    "name": "ipython",
    "version": 3
   },
   "file_extension": ".py",
   "mimetype": "text/x-python",
   "name": "python",
   "nbconvert_exporter": "python",
   "pygments_lexer": "ipython3",
   "version": "3.10.13"
  }
 },
 "nbformat": 4,
 "nbformat_minor": 2
}
