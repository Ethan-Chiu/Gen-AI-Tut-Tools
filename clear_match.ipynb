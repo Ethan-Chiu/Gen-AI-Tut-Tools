{
 "cells": [
  {
   "cell_type": "code",
   "execution_count": null,
   "metadata": {},
   "outputs": [],
   "source": [
    "import requests\n",
    "from requests.auth import HTTPBasicAuth\n",
    "\n",
    "basic = HTTPBasicAuth('admin', 'ethanPassAdmin')\n",
    "# server_url = \"http://localhost:3000\" # For local server\n",
    "server_url = \"https://gen-ai-tut-backend.up.railway.app\""
   ]
  },
  {
   "cell_type": "code",
   "execution_count": null,
   "metadata": {},
   "outputs": [],
   "source": [
    "def _handle_response(response: requests.Response) -> dict|None:\n",
    "    try:\n",
    "        response.raise_for_status()\n",
    "        return response.json()\n",
    "    except requests.exceptions.HTTPError as err:\n",
    "        print(f\"Error: {response.status_code}. {err}\")\n",
    "        return None"
   ]
  },
  {
   "cell_type": "code",
   "execution_count": null,
   "metadata": {},
   "outputs": [],
   "source": [
    "\n",
    "def get_all_matches():\n",
    "    response = requests.get(f'{server_url}/match/list', auth=basic)\n",
    "    res = _handle_response(response)\n",
    "    return res\n",
    "\n",
    "def reset_match(id):\n",
    "    data = {\n",
    "        \"id\": id\n",
    "    }\n",
    "    response = requests.post(f'{server_url}/match/reset', json=data, auth=basic)\n",
    "    res = _handle_response(response)\n",
    "    return res\n",
    "\n",
    "def delete_all_matches():\n",
    "    response = requests.delete(f'{server_url}/match/all/delete', auth=basic)\n",
    "    res = _handle_response(response)\n",
    "    return res"
   ]
  },
  {
   "cell_type": "code",
   "execution_count": null,
   "metadata": {},
   "outputs": [],
   "source": [
    "get_all_matches()"
   ]
  },
  {
   "cell_type": "code",
   "execution_count": null,
   "metadata": {},
   "outputs": [],
   "source": [
    "reset_match(33)"
   ]
  },
  {
   "cell_type": "code",
   "execution_count": null,
   "metadata": {},
   "outputs": [],
   "source": [
    "delete_all_matches()"
   ]
  }
 ],
 "metadata": {
  "kernelspec": {
   "display_name": "genai-course",
   "language": "python",
   "name": "python3"
  },
  "language_info": {
   "codemirror_mode": {
    "name": "ipython",
    "version": 3
   },
   "file_extension": ".py",
   "mimetype": "text/x-python",
   "name": "python",
   "nbconvert_exporter": "python",
   "pygments_lexer": "ipython3",
   "version": "3.10.13"
  }
 },
 "nbformat": 4,
 "nbformat_minor": 2
}
