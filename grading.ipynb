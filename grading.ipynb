{
  "cells": [
    {
      "cell_type": "markdown",
      "metadata": {
        "id": "hp4LsyV_nI_W"
      },
      "source": [
        "### Preparation"
      ]
    },
    {
      "cell_type": "code",
      "execution_count": null,
      "metadata": {
        "id": "mk9FKYGqz_vX"
      },
      "outputs": [],
      "source": [
        "CHATGPT_KEY = \"sk-...\"\n",
        "CLAUDE_KEY = \"sk-ant-...\"\n",
        "# GEMINI_KEY = \"...\""
      ]
    },
    {
      "cell_type": "code",
      "execution_count": null,
      "metadata": {
        "colab": {
          "base_uri": "https://localhost:8080/"
        },
        "id": "LyuvBE200VSU",
        "outputId": "ab10fe6d-3147-4d93-d9dd-3026e4969d5c"
      },
      "outputs": [],
      "source": [
        "# !pip install langchain\n",
        "# !pip install langchain-openai\n",
        "# !pip install langchain-anthropic\n",
        "# !pip install langchain-google-genai"
      ]
    },
    {
      "cell_type": "code",
      "execution_count": null,
      "metadata": {
        "id": "HwXHYCIp1t7n"
      },
      "outputs": [],
      "source": [
        "# from langchain_google_genai import ChatGoogleGenerativeAI\n",
        "from langchain_openai import ChatOpenAI\n",
        "from langchain_anthropic import ChatAnthropic\n",
        "\n",
        "# gemini = ChatGoogleGenerativeAI(model = \"gemini-pro\", google_api_key = GEMINI_KEY)\n",
        "claude = ChatAnthropic(model_name = \"claude-3-haiku-20240307\", anthropic_api_key = CLAUDE_KEY)\n",
        "chatgpt = ChatOpenAI(model = \"gpt-3.5-turbo\", openai_api_key = CHATGPT_KEY)"
      ]
    },
    {
      "cell_type": "markdown",
      "metadata": {
        "id": "xpdhHPN-nP4h"
      },
      "source": [
        "### Match Functions"
      ]
    },
    {
      "cell_type": "code",
      "execution_count": null,
      "metadata": {},
      "outputs": [],
      "source": [
        "import requests\n",
        "from requests.auth import HTTPBasicAuth\n",
        "\n",
        "basic = HTTPBasicAuth('admin', 'ethanPassAdmin')\n",
        "# server_url = \"http://localhost:3000\" # For local server\n",
        "server_url = \"https://gen-ai-tut-backend.up.railway.app\"\n",
        "\n",
        "def handle_response(response: requests.Response) -> dict|None:\n",
        "        try:\n",
        "            response.raise_for_status()\n",
        "            return response.json()\n",
        "        except requests.exceptions.HTTPError as err:\n",
        "            print(f\"Error: {response.status_code}. {err}\")\n",
        "            return None"
      ]
    },
    {
      "cell_type": "code",
      "execution_count": null,
      "metadata": {},
      "outputs": [],
      "source": [
        "from api.models import Match\n",
        "\n",
        "def get_match_list():\n",
        "    response = requests.get(f'{server_url}/match/list', auth=basic)\n",
        "    res = handle_response(response)\n",
        "    return res\n",
        "\n",
        "def get_finished_match(matches:list, processing:list) -> tuple:\n",
        "    try:\n",
        "        for i, match in enumerate(matches):\n",
        "            if match.match_status == \"FINISHED\" and match.id not in processing:\n",
        "                return i, match.id\n",
        "        return -1, -1\n",
        "    except:\n",
        "        return -1, -1    \n",
        "\n",
        "def get_match_info(match_id) -> dict:\n",
        "    response = requests.get(f'{server_url}/match/admin/{match_id}' , auth=basic)\n",
        "    return response.json()\n",
        "\n",
        "def get_history_messages(match_info: Match) -> list:\n",
        "    return [msg[\"text\"] for msg in match_info[\"historyMsgs\"]]"
      ]
    },
    {
      "cell_type": "code",
      "execution_count": null,
      "metadata": {},
      "outputs": [],
      "source": [
        "\n",
        "def get_basic_info(match: Match, match_info: dict) -> tuple:\n",
        "    topics = {\"1\": \"支不支持韓國醫生罷工\", \"2\": \"支不支持必勝客推出草仔粿烏龜披薩\", \"3\": \"使用AI協助創作應不應該註明\"}\n",
        "    topic_id = match.topic_id\n",
        "    topic = topics[str(topic_id)]\n",
        "    first_player_id = match_info[\"firstPlayerId\"]\n",
        "    player_ids = [ player[\"playerId\"] for player in match_info[\"players\"]]\n",
        "    \n",
        "    if player_ids[0] == first_player_id:\n",
        "        second_player_id = player_ids[1]\n",
        "    else:\n",
        "        second_player_id = player_ids[0]\n",
        "    return topic, first_player_id, second_player_id\n",
        "\n"
      ]
    },
    {
      "cell_type": "markdown",
      "metadata": {
        "id": "SXaRWAx_m2mV"
      },
      "source": [
        "### Evaluator"
      ]
    },
    {
      "cell_type": "code",
      "execution_count": null,
      "metadata": {
        "id": "wCUL85I2gRGr"
      },
      "outputs": [],
      "source": [
        "class Evaluator():\n",
        "  def __init__(self, topic, message):\n",
        "    self.topic = topic\n",
        "    self.message = message\n",
        "    self.verify_num = 1\n",
        "    self.message_prefix = [\n",
        "      \"正方論述:\",\n",
        "      \"反方論述:\",\n",
        "      \"正方反駁:\",\n",
        "      \"反方反駁:\"\n",
        "    ]\n",
        "    self.message[-1]= self.message[-1].split(\"Human\")[0]\n",
        "    self.concat_message = [self.message_prefix[i] + self.message[i] for i in range(len(self.message))]\n",
        "    self.prompt_template_first = \"\"\"\n",
        "你是一個專業的評論裁判，本次辯論題目是「<<topic>>」，請根據以下標準判斷正方獲勝或是反方獲勝。\n",
        "\n",
        "勝負判斷標準:\n",
        "1. 邏輯性和說服力： 參賽者的論點應該有邏輯性且具有說服力。他們應該能夠清晰地陳述他們的觀點，並提供具體的證據和理由來支持這些觀點。\n",
        "\n",
        "2. 構建論據： 參賽者應該能夠有效地構建論據來支持他們的立場。這可能包括引用研究、統計數據、專家見解等，以加強他們的論點。\n",
        "\n",
        "3. 反駁和反證： 參賽者應該能夠有效地反駁對手的論點，並提供反證來支持自己的立場。這展示了他們的辯論技巧和對話能力。\n",
        "\n",
        "4. 語言和表達： 參賽者應該使用適當的語言和表達方式來溝通他們的想法。清晰、有條理的語言和良好的口頭表達能力對於贏得辯論至關重要。\n",
        "\n",
        "5. 尊重和態度： 參賽者應該表現出尊重對手和裁判的態度。他們應該避免使用攻擊性言語或不當行為，並且應該遵守辯論比賽的規則和標準。\n",
        "\n",
        "<<message>>\n",
        "<<message>>\n",
        "<<message>>\n",
        "<<message>>\n",
        "    \"\"\"\n",
        "    self.prompt_template_second = \"\"\"\n",
        "完全相信上面你的分析，判斷正方獲勝或是反方獲勝，只要輸出\"正方獲勝\"或\"反方獲勝\"\n",
        "    \"\"\"\n",
        "  def get_prompt(self, concat_message):\n",
        "    prompt = self.prompt_template_first\n",
        "    prompt = prompt.replace(\"<<topic>>\", self.topic, 1)\n",
        "    for i in concat_message:\n",
        "      prompt = prompt.replace(\"<<message>>\", i, 1)\n",
        "    return prompt\n",
        "\n",
        "  def get_referee_result(self, prompt, llm):\n",
        "    message = [{\"role\": \"user\", \"content\": prompt}]\n",
        "    comment = llm.invoke(message).content\n",
        "    message.append({\"role\": \"assistant\", \"content\": comment})\n",
        "    message.append({\"role\": \"user\", \"content\": self.prompt_template_second})\n",
        "    result = llm.invoke(message).content\n",
        "    if \"正方獲勝\" in result:\n",
        "      return \"正方獲勝\"\n",
        "    elif \"反方獲勝\" in result:\n",
        "      return \"反方獲勝\"\n",
        "    return result\n",
        "  \n",
        "  def get_result(self):\n",
        "    result = []\n",
        "    first = True\n",
        "    for llm in [claude, chatgpt]:\n",
        "      for i in range(4):\n",
        "        if i % 2 == 0:\n",
        "          self.concat_message[0], self.concat_message[1] = self.concat_message[1], self.concat_message[0]\n",
        "        else:\n",
        "          self.concat_message[2], self.concat_message[3] = self.concat_message[3], self.concat_message[2]\n",
        "        prompt = self.get_prompt(self.concat_message)\n",
        "        \n",
        "        for i in range(self.verify_num):\n",
        "          res = self.get_referee_result(prompt, llm)\n",
        "          if first:\n",
        "            result.append(res)\n",
        "            first = False\n",
        "          result.append(res)\n",
        "    \n",
        "    print(result)\n",
        "    return {\"正方獲勝\": result.count(\"正方獲勝\"), \"反方獲勝\": result.count(\"反方獲勝\"), \"平手\": 9 * self.verify_num - result.count(\"正方獲勝\") - result.count(\"反方獲勝\")}"
      ]
    },
    {
      "cell_type": "markdown",
      "metadata": {
        "id": "8Ddr9evim9hZ"
      },
      "source": [
        "### Result"
      ]
    },
    {
      "cell_type": "code",
      "execution_count": null,
      "metadata": {},
      "outputs": [],
      "source": [
        "def find_winner(result, first_player_id, second_player_id):\n",
        "    winner_id = \"\"\n",
        "    if result[\"正方獲勝\"] > result[\"反方獲勝\"]:\n",
        "        print(f\"勝者為正方 id: {first_player_id}\")\n",
        "        winner_id = first_player_id\n",
        "    elif result[\"反方獲勝\"] > result[\"正方獲勝\"]:\n",
        "        print(f\"勝者為反方 id: {second_player_id}\")\n",
        "        winner_id = second_player_id\n",
        "    else:\n",
        "        print(\"平手\")\n",
        "        winner_id = first_player_id\n",
        "    return winner_id\n",
        "\n",
        "def submit_result(finished_match_id, result, first_player_id, second_player_id):\n",
        "    url = f'{server_url}/result/submit'\n",
        "    winner_id = find_winner(result, first_player_id, second_player_id)\n",
        "    data = {\n",
        "        \"winnerId\": winner_id,\n",
        "        \"comment\": \"Good. very good\",\n",
        "        \"matchId\": finished_match_id,\n",
        "        \"points\": [{\"userId\": first_player_id, \"points\": result[\"正方獲勝\"]}, {\"userId\": second_player_id, \"points\": result[\"反方獲勝\"]}]\n",
        "    }\n",
        "    response = requests.post(url, json=data, auth=basic)\n",
        "    return response\n"
      ]
    },
    {
      "cell_type": "markdown",
      "metadata": {},
      "source": [
        "### Loop"
      ]
    },
    {
      "cell_type": "code",
      "execution_count": null,
      "metadata": {},
      "outputs": [],
      "source": [
        "\n",
        "def evaluate(finished_match_id, processing_match):\n",
        "    print(f\"evaluating match: {finished_match_id}\")\n",
        "    match_info = get_match_info(finished_match_id)\n",
        "    msgs = get_history_messages(match_info)\n",
        "    topic, first_player_id, second_player_id = get_basic_info(processing_match,match_info)\n",
        "    result = Evaluator(topic, msgs).get_result()\n",
        "    response = submit_result(finished_match_id, result, first_player_id, second_player_id)\n",
        "    res = handle_response(response)\n",
        "    print(f\"Match {finished_match_id} evaluation result: {result}\")\n"
      ]
    },
    {
      "cell_type": "code",
      "execution_count": null,
      "metadata": {},
      "outputs": [],
      "source": [
        "import time\n",
        "import threading\n",
        "from queue import Queue\n",
        "\n",
        "processing = []\n",
        "match_queue = Queue()\n",
        "\n",
        "def worker():\n",
        "    while True:\n",
        "        # print(match_queue.qsize())\n",
        "        if match_queue.empty():\n",
        "            time.sleep(5)\n",
        "            continue\n",
        "        finished_match_id, match = match_queue.get()\n",
        "        evaluate(finished_match_id, match)\n",
        "        match_queue.task_done()\n",
        "\n",
        "threads = []\n",
        "num_threads = 4  # 你可以根據需要調整線程數量\n",
        "\n",
        "for _ in range(num_threads):\n",
        "    t = threading.Thread(target=worker)\n",
        "    t.start()\n",
        "    threads.append(t)\n",
        "\n",
        "while True:\n",
        "    matches = get_match_list()\n",
        "    matches = [Match.from_json(match) for match in matches]\n",
        "    index, finished_match_id = get_finished_match(matches,processing)\n",
        "    if index == -1:\n",
        "        time.sleep(5)\n",
        "        continue\n",
        "    processing.append(finished_match_id)\n",
        "    match_queue.put((finished_match_id, matches[index]))\n",
        "    time.sleep(5)\n",
        "\n"
      ]
    },
    {
      "cell_type": "code",
      "execution_count": null,
      "metadata": {},
      "outputs": [],
      "source": [
        "match_queue.join()\n",
        "for _ in range(num_threads):\n",
        "    match_queue.put(None)\n",
        "for t in threads:\n",
        "    t.join()"
      ]
    }
  ],
  "metadata": {
    "colab": {
      "provenance": []
    },
    "kernelspec": {
      "display_name": "Python 3",
      "name": "python3"
    },
    "language_info": {
      "codemirror_mode": {
        "name": "ipython",
        "version": 3
      },
      "file_extension": ".py",
      "mimetype": "text/x-python",
      "name": "python",
      "nbconvert_exporter": "python",
      "pygments_lexer": "ipython3",
      "version": "3.10.13"
    }
  },
  "nbformat": 4,
  "nbformat_minor": 0
}
